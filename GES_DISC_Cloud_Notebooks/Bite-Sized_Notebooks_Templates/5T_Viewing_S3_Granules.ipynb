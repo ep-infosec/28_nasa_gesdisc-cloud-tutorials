{
 "cells": [
  {
   "cell_type": "markdown",
   "id": "quick-trailer",
   "metadata": {},
   "source": [
    "# Viewing S3 Bucket Granules with S3FS\n",
    "### Author: Chris Battisto\n",
    "### Date Authored: 1-26-22\n",
    "\n",
    "### Timing\n",
    "\n",
    "Exercise: 5 minutes\n",
    "\n",
    "<p></p>\n",
    "\n",
    "<div style=\"background:#fc9090;border:1px solid #cccccc;padding:5px 10px;\"><big><b>Note:  </b>This notebook <em><strong>will only run in an environment with <a href=\"https://disc.gsfc.nasa.gov/information/glossary?keywords=%22earthdata%20cloud%22&amp;title=AWS%20region\">us-west-2 AWS access</a></strong></em>.</big></div>\n",
    "\n",
    "### Overview\n",
    "\n",
    "This notebook demonstrates viewing granules inside the GES DISC S3 bucket through the S3FS Python library.\n",
    "\n",
    "### Prerequisites\n",
    "\n",
    "This notebook was written using Python 3.8, and requires these libraries and files: \n",
    "\n",
    "- Xarray\n",
    "- S3FS\n",
    "  - S3FS documentation: https://s3fs.readthedocs.io/en/latest/install.html\n",
    "- netrc file with valid Earthdata Login credentials.\n",
    "- Approval to access the GES DISC archives with your Earthdata credentials (https://disc.gsfc.nasa.gov/earthdata-login)\n"
   ]
  },
  {
   "cell_type": "markdown",
   "id": "junior-plenty",
   "metadata": {},
   "source": [
    "### Import Libraries"
   ]
  },
  {
   "cell_type": "code",
   "execution_count": null,
   "id": "plain-glenn",
   "metadata": {},
   "outputs": [],
   "source": [
    "#"
   ]
  },
  {
   "cell_type": "markdown",
   "id": "deluxe-train",
   "metadata": {},
   "source": [
    "### Get S3 Credentials and Mount the S3 Filesystem"
   ]
  },
  {
   "cell_type": "code",
   "execution_count": null,
   "id": "enabling-trunk",
   "metadata": {},
   "outputs": [],
   "source": [
    "gesdisc_s3 = \"https://data.gesdisc.earthdata.nasa.gov/s3credentials\"\n",
    "response = requests.get(gesdisc_s3).json() \n",
    "\n",
    "fs = s3fs.S3FileSystem(key=response['accessKeyId'],\n",
    "                    secret=response['secretAccessKey'],\n",
    "                    token=response['sessionToken'],\n",
    "                    client_kwargs={'region_name':'us-west-2'})\n",
    "\n",
    "# Check that the file system is intact as an S3FileSystem object, which means that token is valid\n",
    "# Common causes of rejected S3 access tokens include incorrect passwords stored in the netrc file, or a non-existent netrc file\n",
    "type(fs)"
   ]
  },
  {
   "cell_type": "markdown",
   "id": "heard-jersey",
   "metadata": {},
   "source": [
    "### Explore S3FS Bucket Contents\n",
    "\n",
    "Once you have your S3 URLs and the filesystem mounted, you can access and view information as if it were stored locally."
   ]
  },
  {
   "cell_type": "code",
   "execution_count": null,
   "id": "american-venezuela",
   "metadata": {},
   "outputs": [],
   "source": [
    "#"
   ]
  },
  {
   "cell_type": "code",
   "execution_count": null,
   "id": "atomic-triple",
   "metadata": {},
   "outputs": [],
   "source": [
    "#"
   ]
  },
  {
   "cell_type": "markdown",
   "id": "absent-buffer",
   "metadata": {},
   "source": [
    "### Open a Granule Directly in Xarray\n",
    "\n",
    "Individual granule metadata can be retrived using S3FS, and can be opened with Xarray natively."
   ]
  },
  {
   "cell_type": "code",
   "execution_count": null,
   "id": "indonesian-there",
   "metadata": {},
   "outputs": [],
   "source": [
    "#"
   ]
  },
  {
   "cell_type": "markdown",
   "id": "acoustic-theology",
   "metadata": {},
   "source": [
    "Open the file by passing <code>fs.open(fn)</code> into <code>xr.open_dataset()</code>"
   ]
  },
  {
   "cell_type": "code",
   "execution_count": null,
   "id": "classical-special",
   "metadata": {},
   "outputs": [],
   "source": [
    "#"
   ]
  }
 ],
 "metadata": {
  "kernelspec": {
   "display_name": "Python 3 (ipykernel)",
   "language": "python",
   "name": "python3"
  },
  "language_info": {
   "codemirror_mode": {
    "name": "ipython",
    "version": 3
   },
   "file_extension": ".py",
   "mimetype": "text/x-python",
   "name": "python",
   "nbconvert_exporter": "python",
   "pygments_lexer": "ipython3",
   "version": "3.8.12"
  }
 },
 "nbformat": 4,
 "nbformat_minor": 5
}
