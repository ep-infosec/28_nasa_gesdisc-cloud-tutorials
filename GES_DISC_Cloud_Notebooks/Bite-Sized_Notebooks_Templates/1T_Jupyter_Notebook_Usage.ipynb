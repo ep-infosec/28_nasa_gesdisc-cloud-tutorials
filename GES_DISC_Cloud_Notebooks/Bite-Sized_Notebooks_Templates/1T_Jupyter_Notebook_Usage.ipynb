{
 "cells": [
  {
   "cell_type": "markdown",
   "id": "executive-special",
   "metadata": {
    "id": "executive-special"
   },
   "source": [
    "# Jupyter Notebook Tips & Tricks\n",
    "### Author: Chris Battisto\n",
    "### Date Authored: 1-31-22\n",
    "\n",
    "### Timing\n",
    "\n",
    "Exercise: 15 minutes\n",
    "\n",
    "### Overview\n",
    "\n",
    "This notebook demonstrates some tips and tricks with using Jupyter notebooks.\n",
    "\n",
    "### Prerequisites\n",
    "\n",
    "This notebook was written in Python 3.8, and requires novice experience with using a bash terminal, as well as the following libraries:\n",
    "\n",
    "- Xarray\n"
   ]
  },
  {
   "cell_type": "markdown",
   "id": "hungarian-projection",
   "metadata": {
    "id": "hungarian-projection"
   },
   "source": [
    "### Import Libraries"
   ]
  },
  {
   "cell_type": "code",
   "execution_count": null,
   "id": "regulated-paraguay",
   "metadata": {
    "id": "regulated-paraguay",
    "outputId": "e70f229b-6855-4f50-ec52-efb784f43f90"
   },
   "outputs": [],
   "source": [
    "#"
   ]
  },
  {
   "cell_type": "markdown",
   "id": "accepting-essence",
   "metadata": {
    "id": "accepting-essence"
   },
   "source": [
    "### Load and Plot Data with Xarray"
   ]
  },
  {
   "cell_type": "code",
   "execution_count": null,
   "id": "expressed-carol",
   "metadata": {
    "id": "expressed-carol",
    "outputId": "22a41c3f-6143-4dc7-e232-8a7317d4bf2d"
   },
   "outputs": [],
   "source": [
    "#"
   ]
  },
  {
   "cell_type": "markdown",
   "id": "corrected-holiday",
   "metadata": {
    "id": "corrected-holiday"
   },
   "source": [
    "### IPython Magic Commands\n",
    "\n",
    "Magic commands are particularly useful for viewing and manipulating Python scripts or Jupyter notebook environment and variable settings."
   ]
  },
  {
   "cell_type": "code",
   "execution_count": null,
   "id": "considered-denmark",
   "metadata": {
    "id": "considered-denmark",
    "outputId": "6a9549db-7150-46cf-bd9f-3e2565bfb50f"
   },
   "outputs": [],
   "source": [
    "#"
   ]
  },
  {
   "cell_type": "code",
   "execution_count": null,
   "id": "rocky-render",
   "metadata": {
    "id": "rocky-render",
    "outputId": "7552f255-1afe-47de-d9ab-8ffb24713c4d"
   },
   "outputs": [],
   "source": [
    "#"
   ]
  },
  {
   "cell_type": "code",
   "execution_count": null,
   "id": "destroyed-copper",
   "metadata": {
    "id": "destroyed-copper",
    "outputId": "bf09870f-825f-49ca-e3bb-60410bb7b104"
   },
   "outputs": [],
   "source": [
    "#"
   ]
  },
  {
   "cell_type": "markdown",
   "id": "lesbian-remains",
   "metadata": {
    "id": "lesbian-remains"
   },
   "source": [
    "### Run Terminal Commands in a Notebook\n",
    "\n",
    "Cells can be prefixed with a <code>!</code> to run bash commands, and have their output printed.\n",
    "Note that these commands **cannot** be used to change environment variables."
   ]
  },
  {
   "cell_type": "code",
   "execution_count": null,
   "id": "copyrighted-monaco",
   "metadata": {
    "id": "copyrighted-monaco",
    "outputId": "39dc642f-c819-4f8a-a1be-fac36684c1ea"
   },
   "outputs": [],
   "source": [
    "#"
   ]
  },
  {
   "cell_type": "code",
   "execution_count": null,
   "id": "chronic-interest",
   "metadata": {
    "id": "chronic-interest",
    "outputId": "006ccb60-bd94-4ac1-bc46-17545493a027"
   },
   "outputs": [],
   "source": [
    "#"
   ]
  },
  {
   "cell_type": "markdown",
   "id": "humanitarian-theater",
   "metadata": {
    "id": "humanitarian-theater"
   },
   "source": [
    "### View and Install Python Packages with <code>pip</code>\n",
    "\n",
    "If you need to verify or install Python libraries, you can use the <code>! pip</code> prefix to view or install any library available through the Python package manager."
   ]
  },
  {
   "cell_type": "code",
   "execution_count": null,
   "id": "banned-encyclopedia",
   "metadata": {
    "id": "banned-encyclopedia",
    "outputId": "4bae896d-b436-487f-f928-b65b37c5cd77"
   },
   "outputs": [],
   "source": [
    "#"
   ]
  }
 ],
 "metadata": {
  "colab": {
   "collapsed_sections": [],
   "name": "Jupyter_Notebook_Usage.ipynb",
   "provenance": []
  },
  "kernelspec": {
   "display_name": "Python 3",
   "language": "python",
   "name": "python3"
  },
  "language_info": {
   "codemirror_mode": {
    "name": "ipython",
    "version": 3
   },
   "file_extension": ".py",
   "mimetype": "text/x-python",
   "name": "python",
   "nbconvert_exporter": "python",
   "pygments_lexer": "ipython3",
   "version": "3.8.8"
  }
 },
 "nbformat": 4,
 "nbformat_minor": 5
}
