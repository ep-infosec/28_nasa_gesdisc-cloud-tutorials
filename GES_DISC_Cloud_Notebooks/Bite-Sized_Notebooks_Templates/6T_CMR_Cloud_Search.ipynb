{
 "cells": [
  {
   "cell_type": "markdown",
   "id": "narrative-walnut",
   "metadata": {
    "id": "narrative-walnut"
   },
   "source": [
    "# Using CMR to View Cloud-Hosted Datasets\n",
    "### Author: Chris Battisto\n",
    "### Date Authored: 1-31-22\n",
    "\n",
    "### Timing\n",
    "\n",
    "Exercise: 15 minutes\n",
    "\n",
    "<p></p>\n",
    "\n",
    "<div style=\"background:#fc9090;border:1px solid #cccccc;padding:5px 10px;\"><big><b>Note:  </b>This notebook <em><strong>will only run in an environment with <a href=\"https://disc.gsfc.nasa.gov/information/glossary?keywords=%22earthdata%20cloud%22&amp;title=AWS%20region\">us-west-2 AWS access</a></strong></em>.</big></div>\n",
    "\n",
    "### Overview\n",
    "\n",
    "This notebook demonstrates how to access cloud-hosted GES DISC granules using the [Commmon Metadata Repository (CMR) API](https://cmr.earthdata.nasa.gov/search/site/docs/search/api.html).\n",
    "\n",
    "### Prerequisites\n",
    "\n",
    "This notebook was written using Python 3.8, and requires these libraries and files: \n",
    "- xarray\n",
    "- S3FS\n",
    "- netrc file with valid Earthdata Login credentials.\n",
    "- Approval to access the GES DISC archives with your Earthdata credentials (https://disc.gsfc.nasa.gov/earthdata-login)\n"
   ]
  },
  {
   "cell_type": "markdown",
   "id": "t41Inu8NiQiX",
   "metadata": {
    "id": "t41Inu8NiQiX"
   },
   "source": [
    "### Import Libraries"
   ]
  },
  {
   "cell_type": "code",
   "execution_count": null,
   "id": "seeing-tonight",
   "metadata": {
    "id": "seeing-tonight"
   },
   "outputs": [],
   "source": [
    "import requests\n",
    "import xarray as xr\n",
    "import s3fs\n",
    "import pprint"
   ]
  },
  {
   "cell_type": "markdown",
   "id": "russian-night",
   "metadata": {
    "id": "russian-night"
   },
   "source": [
    "### Create a Function for CMR Catalog Requests"
   ]
  },
  {
   "cell_type": "code",
   "execution_count": null,
   "id": "certified-gather",
   "metadata": {
    "id": "certified-gather"
   },
   "outputs": [],
   "source": [
    "#"
   ]
  },
  {
   "cell_type": "markdown",
   "id": "breathing-oxide",
   "metadata": {
    "id": "breathing-oxide"
   },
   "source": [
    "### Search CMR Catalogs and Obtain Data URLs\n",
    "\n",
    "First, check that the CMR catalog can be accessed:"
   ]
  },
  {
   "cell_type": "code",
   "execution_count": null,
   "id": "introductory-wyoming",
   "metadata": {
    "id": "introductory-wyoming",
    "outputId": "403cd50f-10f9-4bc1-ace1-c623d81345f0"
   },
   "outputs": [],
   "source": [
    "#"
   ]
  },
  {
   "cell_type": "markdown",
   "id": "military-basket",
   "metadata": {
    "id": "military-basket"
   },
   "source": [
    "Lets see how many cloud-hosted data collections are currently in the GES DISC CMR catalog:"
   ]
  },
  {
   "cell_type": "code",
   "execution_count": null,
   "id": "quantitative-appreciation",
   "metadata": {
    "id": "quantitative-appreciation",
    "outputId": "dbc08e57-8b76-4c05-f08a-b57d60c905d0"
   },
   "outputs": [],
   "source": [
    "#"
   ]
  },
  {
   "cell_type": "markdown",
   "id": "fatal-outside",
   "metadata": {
    "id": "fatal-outside"
   },
   "source": [
    "Here are the current GES DISC datasets available in the cloud as of March 2022:"
   ]
  },
  {
   "cell_type": "code",
   "execution_count": null,
   "id": "finished-alignment",
   "metadata": {
    "id": "finished-alignment",
    "outputId": "8cd0299f-cee9-4427-fcdf-d54ad9cb94c2",
    "scrolled": true
   },
   "outputs": [],
   "source": [
    "#"
   ]
  },
  {
   "cell_type": "markdown",
   "id": "c80d58e4",
   "metadata": {},
   "source": [
    "Once we know which datasets are cloud hosted, we can obtain individual granule S3 URLs by querying https://cmr.earthdata.nasa.gov/search/granules. By querying a JSON response of the granule that we want, we can obtain the new OPeNDAP link and S3 links. Here, we will parse out an s3 link to the AQUA AIRS IR + MW Level 2 CLIMCAPS dataset: "
   ]
  },
  {
   "cell_type": "code",
   "execution_count": null,
   "id": "cae6738a",
   "metadata": {},
   "outputs": [],
   "source": [
    "#"
   ]
  },
  {
   "cell_type": "markdown",
   "id": "6837abc2",
   "metadata": {},
   "source": [
    "Now, we can parse out that link, and assign it to a variable:"
   ]
  },
  {
   "cell_type": "code",
   "execution_count": null,
   "id": "b8d22e65",
   "metadata": {},
   "outputs": [],
   "source": [
    "#"
   ]
  },
  {
   "cell_type": "markdown",
   "id": "turned-imagination",
   "metadata": {
    "id": "turned-imagination"
   },
   "source": [
    "### ***Alternate Link Generation Method:***\n",
    "\n",
    "For datasets that do not have their S3 links posted, their parent links can be manually switched to S3 using Python's <code>replace</code> function (for example, change <code>https://goldsmr4.gesdisc.eosdis.nasa.gov/data/MERRA2/</code> to <code>s3://gesdisc-cumulus-prod-protected/MERRA2/</code>. Remember that datasets like GPM IMERG may have different file organization structures, and it is recommended to use the GES DISC subsetting tool, CMR, or Earthdata Search to generate links."
   ]
  },
  {
   "cell_type": "code",
   "execution_count": null,
   "id": "sustainable-circle",
   "metadata": {
    "id": "sustainable-circle",
    "outputId": "fee4724d-37a4-463d-ff66-00b97192b098"
   },
   "outputs": [],
   "source": [
    "# Paste link generated by GES DISC subsetter\n",
    "\n",
    "#merra_opendap_link = 'https://goldsmr4.gesdisc.eosdis.nasa.gov/opendap/MERRA2/M2T1NXSLV.5.12.4/2013/05/MERRA2_400.tavg1_2d_slv_Nx.20130531.nc4'\n",
    "#print('OPeNDAP Link:', merra_opendap_link)\n",
    "\n",
    "# Manually replace the on-prem server link with S3 for file list generation\n",
    "#merra_s3_link = merra_opendap_link.replace('https://goldsmr4.gesdisc.eosdis.nasa.gov/opendap/', \n",
    "#                                 's3://gesdisc-cumulus-prod-protected/')\n",
    "\n",
    "#print('S3 Link:', merra_s3_link)\n"
   ]
  },
  {
   "cell_type": "markdown",
   "id": "77de22e3",
   "metadata": {},
   "source": [
    "#### Now that our S3 link has been obtained, we can generate our token, mount the GES DISC S3 bucket, and open our granule."
   ]
  },
  {
   "cell_type": "markdown",
   "id": "independent-triple",
   "metadata": {
    "id": "independent-triple"
   },
   "source": [
    "### Obtain S3 credentials and Open Bucket Granules"
   ]
  },
  {
   "cell_type": "markdown",
   "id": "fresh-reunion",
   "metadata": {
    "id": "fresh-reunion"
   },
   "source": [
    "Remember that the credential token requires a previously generated netrc file, and that it will only last for one hour before needing to be regenerated."
   ]
  },
  {
   "cell_type": "code",
   "execution_count": null,
   "id": "determined-confidentiality",
   "metadata": {
    "id": "determined-confidentiality",
    "outputId": "095a4f92-0363-4440-d6d2-2a177cd63099"
   },
   "outputs": [],
   "source": [
    "gesdisc_s3 = \"https://data.gesdisc.earthdata.nasa.gov/s3credentials\"\n",
    "\n",
    "# Define a function for S3 access credentials\n",
    "\n",
    "def begin_s3_direct_access(url: str=gesdisc_s3):\n",
    "    response = requests.get(url).json()\n",
    "    return s3fs.S3FileSystem(key=response['accessKeyId'],\n",
    "                             secret=response['secretAccessKey'],\n",
    "                             token=response['sessionToken'],\n",
    "                             client_kwargs={'region_name':'us-west-2'})\n",
    "\n",
    "fs = begin_s3_direct_access()\n",
    "\n",
    "# Check that the file system is intact as an S3FileSystem object, which means that token is valid\n",
    "# Common causes of rejected S3 access tokens include incorrect passwords stored in the netrc file, or a non-existent netrc file\n",
    "type(fs)"
   ]
  },
  {
   "cell_type": "markdown",
   "id": "4541b214",
   "metadata": {},
   "source": [
    "Finally, we can open the CLIMCAPS granule in Xarray:"
   ]
  },
  {
   "cell_type": "code",
   "execution_count": null,
   "id": "sustained-glass",
   "metadata": {
    "id": "sustained-glass"
   },
   "outputs": [],
   "source": [
    "#"
   ]
  },
  {
   "cell_type": "markdown",
   "id": "banner-documentary",
   "metadata": {
    "id": "banner-documentary"
   },
   "source": [
    "### Additional Exercise: Compare On-prem and S3 granules:\n",
    "\n",
    "Xarray's <code>equals()</code> function can be called to compare any two Xarray data objects, or in this case, for seeing if the on-prem and S3 granules have identical data:"
   ]
  },
  {
   "cell_type": "code",
   "execution_count": null,
   "id": "prescription-arbor",
   "metadata": {
    "id": "prescription-arbor",
    "outputId": "08c2aa61-8463-4d01-cdcd-ce3759042b5d"
   },
   "outputs": [],
   "source": [
    "ds_merra_on_prem = xr.open_dataset(merra_opendap_link)\n",
    "ds_merra_s3 = xr.open_dataset(fs.open(merra_s3_link))\n",
    "\n",
    "# Always use equals() for checking if Xarray datasets are identical\n",
    "if ds_merra_s3.equals(ds_merra_on_prem):\n",
    "    print('The on-prem and S3 datasets are equal and intact')"
   ]
  },
  {
   "cell_type": "code",
   "execution_count": null,
   "id": "20180918-dd4f-4ca7-b781-dfbfa3caacf8",
   "metadata": {},
   "outputs": [],
   "source": []
  }
 ],
 "metadata": {
  "colab": {
   "name": "CMR_Cloud_Search.ipynb",
   "provenance": []
  },
  "kernelspec": {
   "display_name": "Python 3 (ipykernel)",
   "language": "python",
   "name": "python3"
  },
  "language_info": {
   "codemirror_mode": {
    "name": "ipython",
    "version": 3
   },
   "file_extension": ".py",
   "mimetype": "text/x-python",
   "name": "python",
   "nbconvert_exporter": "python",
   "pygments_lexer": "ipython3",
   "version": "3.8.12"
  }
 },
 "nbformat": 4,
 "nbformat_minor": 5
}
