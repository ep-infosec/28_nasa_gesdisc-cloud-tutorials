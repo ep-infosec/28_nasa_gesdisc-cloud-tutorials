{
 "cells": [
  {
   "cell_type": "markdown",
   "id": "residential-greene",
   "metadata": {},
   "source": [
    "# Accessing S3 Buckets with S3FS\n",
    "### Author: Chris Battisto\n",
    "### Date Authored: 1-26-22\n",
    "\n",
    "### Timing\n",
    "\n",
    "Exercise: 5 minutes\n",
    "\n",
    "<p></p>\n",
    "\n",
    "<div style=\"background:#fc9090;border:1px solid #cccccc;padding:5px 10px;\"><big><b>Note:  </b>This notebook <em><strong>will only run in an environment with <a href=\"https://disc.gsfc.nasa.gov/information/glossary?keywords=%22earthdata%20cloud%22&amp;title=AWS%20region\">us-west-2 AWS access</a></strong></em>.</big></div>\n",
    "\n",
    "### Overview\n",
    "\n",
    "This notebook demonstrates accessing the GES DISC S3 bucket through the S3FS Python library.\n",
    "\n",
    "### Prerequisites\n",
    "\n",
    "This notebook was written using Python 3.8, and requires these libraries and files: \n",
    "\n",
    "- S3FS\n",
    "    - S3FS documentation: https://s3fs.readthedocs.io/en/latest/install.html\n",
    "- netrc file with valid Earthdata Login credentials.\n",
    "- Approval to access the GES DISC archives with your Earthdata credentials (https://disc.gsfc.nasa.gov/earthdata-login)\n"
   ]
  },
  {
   "cell_type": "markdown",
   "id": "mediterranean-twenty",
   "metadata": {},
   "source": [
    "### Import Libraries"
   ]
  },
  {
   "cell_type": "code",
   "execution_count": 16,
   "id": "desirable-association",
   "metadata": {},
   "outputs": [],
   "source": [
    "import s3fs\n",
    "import requests"
   ]
  },
  {
   "cell_type": "markdown",
   "id": "2248097a",
   "metadata": {},
   "source": [
    "### What is S3?\n",
    "\n",
    "- S3 (Simple Storage Service) is an economical and simple way to store and access granules in the cloud.\n",
    "- It stores data as \"objects\" inside of \"buckets\" to allow for data to be accessed securely and optimally.\n",
    "- Thanks to Python and S3FS, we can load our data objects as if they were stored in a traditional file structure/system."
   ]
  },
  {
   "cell_type": "code",
   "execution_count": null,
   "id": "b7d66c8d",
   "metadata": {},
   "outputs": [],
   "source": [
    "from IPython.display import Image\n",
    "\n",
    "Image(url=\"https://d1.awsstatic.com/s3-pdp-redesign/product-page-diagram_Amazon-S3_HIW.cf4c2bd7aa02f1fe77be8aa120393993e08ac86d.png\")"
   ]
  },
  {
   "cell_type": "markdown",
   "id": "radical-melbourne",
   "metadata": {},
   "source": [
    "### Get S3 Credentials"
   ]
  },
  {
   "cell_type": "code",
   "execution_count": 2,
   "id": "knowing-cornwall",
   "metadata": {},
   "outputs": [],
   "source": [
    "gesdisc_s3 = \"https://data.gesdisc.earthdata.nasa.gov/s3credentials\"\n",
    "response = requests.get(gesdisc_s3).json() "
   ]
  },
  {
   "cell_type": "markdown",
   "id": "proud-foundation",
   "metadata": {},
   "source": [
    "### S3 Bucket Access with S3FS\n",
    "\n",
    "The S3FS library is a FUSE-based service that allows for users to \"mount\" an S3 bucket and access it as if it were stored locally. It uses the botocore backend, and greatly simplifies accessing cloud-hosted data with Earthdata credentials.\n",
    "\n",
    "Once our credentials are retrieved using our previously generated .netrc file, we can \"mount\" the filesystem by passing our token information. Remember that these credentials only last for one hour, and once this time passes, the kernel must be reset and the cell below will need to be re-run."
   ]
  },
  {
   "cell_type": "code",
   "execution_count": 3,
   "id": "animal-explorer",
   "metadata": {},
   "outputs": [
    {
     "data": {
      "text/plain": [
       "s3fs.core.S3FileSystem"
      ]
     },
     "execution_count": 3,
     "metadata": {},
     "output_type": "execute_result"
    }
   ],
   "source": [
    "fs = s3fs.S3FileSystem(key=response['accessKeyId'],\n",
    "                    secret=response['secretAccessKey'],\n",
    "                    token=response['sessionToken'],\n",
    "                    client_kwargs={'region_name':'us-west-2'})\n",
    "\n",
    "# Check that the file system is intact as an S3FileSystem object, which means that token is valid\n",
    "# Common causes of rejected S3 access tokens include incorrect passwords stored in the netrc file, or a non-existent netrc file\n",
    "type(fs)"
   ]
  }
 ],
 "metadata": {
  "kernelspec": {
   "display_name": "Python 3 (ipykernel)",
   "language": "python",
   "name": "python3"
  },
  "language_info": {
   "codemirror_mode": {
    "name": "ipython",
    "version": 3
   },
   "file_extension": ".py",
   "mimetype": "text/x-python",
   "name": "python",
   "nbconvert_exporter": "python",
   "pygments_lexer": "ipython3",
   "version": "3.8.12"
  }
 },
 "nbformat": 4,
 "nbformat_minor": 5
}
