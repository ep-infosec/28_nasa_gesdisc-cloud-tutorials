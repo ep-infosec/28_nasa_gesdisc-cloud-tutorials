{
 "cells": [
  {
   "cell_type": "markdown",
   "id": "tropical-italian",
   "metadata": {
    "id": "4da9684d-260e-49f4-a9ae-164738c17f3d"
   },
   "source": [
    "# How to Directly Access MERRA-2 Data from an S3 Bucket with Python\n",
    "### Author: Chris Battisto\n",
    "### Date Authored: 1-11-22\n",
    "\n",
    "### Timing\n",
    "\n",
    "Exercise: 30 minutes\n",
    "\n",
    "<p></p>\n",
    "\n",
    "<div style=\"background:#fc9090;border:1px solid #cccccc;padding:5px 10px;\"><big><b>Note:  </b>This notebook <em><strong>will only run in an environment with <a href=\"https://disc.gsfc.nasa.gov/information/glossary?keywords=%22earthdata%20cloud%22&amp;title=AWS%20region\">us-west-2 AWS access</a></strong></em>.</big></div>\n",
    "\n",
    "### Overview\n",
    "\n",
    "This notebook demonstrates how to access and plot a Modern-Era Retrospective analysis for Research and Applications (MERRA-2) M2T1NXSLV.5.12.4 file hosted via an Amazon S3 bucket. It demonstrates how to access an S3 bucket with the S3FS library and then plot sea-level pressure contours of a single file with Cartopy and Matplotlib. \n",
    "\n",
    "### Prerequisites\n",
    "\n",
    "This notebook was written using Python 3.8, and requires these libraries and files: \n",
    "- xarray\n",
    "- cartopy\n",
    "- matplotlib\n",
    "- S3FS\n",
    "  - S3FS documentation: https://s3fs.readthedocs.io/en/latest/install.html\\\n",
    "- netrc file with valid Earthdata Login credentials.\n",
    "- Approval to access the GES DISC archives with your Earthdata credentials (https://disc.gsfc.nasa.gov/earthdata-login)\n"
   ]
  },
  {
   "cell_type": "markdown",
   "id": "together-station",
   "metadata": {
    "id": "ad0b76d6-e428-4f83-a29d-f8738ac93ead"
   },
   "source": [
    "### Import Libraries"
   ]
  },
  {
   "cell_type": "code",
   "execution_count": null,
   "id": "vanilla-assets",
   "metadata": {
    "colab": {
     "base_uri": "https://localhost:8080/",
     "height": 388
    },
    "id": "aac0ca2b",
    "outputId": "e9dbfe29-1559-48c5-e9c8-8a1be3a74489"
   },
   "outputs": [],
   "source": [
    "from netrc import netrc\n",
    "from subprocess import Popen\n",
    "from platform import system\n",
    "from getpass import getpass\n",
    "import os\n",
    "import requests\n",
    "import xarray as xr\n",
    "import s3fs\n",
    "import cartopy.crs as ccrs\n",
    "import cartopy.feature as cfeature\n",
    "import matplotlib.pyplot as plt\n",
    "import warnings\n",
    "\n",
    "warnings.filterwarnings('ignore')\n",
    "%matplotlib inline"
   ]
  },
  {
   "cell_type": "markdown",
   "id": "adaptive-statement",
   "metadata": {},
   "source": [
    "### Generate .netrc file with your Earthdata Credentials\n",
    "\n",
    "Alternatively, you can upload a previously generated .netrc file to <code>~/root</code> using the file explorer panel.\n",
    "If you believe you have entered an incorrect username or password, you can open up a terminal instance by clicking the blue \"plus\" button in the top left corner, selecting \"Terminal\", and then remove the previously generated netrc by typing in <code>rm .netrc</code>. Then, this cell can be rerun to generate a new netrc file."
   ]
  },
  {
   "cell_type": "code",
   "execution_count": null,
   "id": "right-locking",
   "metadata": {},
   "outputs": [],
   "source": [
    "urs = 'urs.earthdata.nasa.gov'    # Earthdata URL endpoint for authentication\n",
    "prompts = ['Enter NASA Earthdata Login Username: ',\n",
    "           'Enter NASA Earthdata Login Password: ']\n",
    "\n",
    "netrc_name = \".netrc\"\n",
    "\n",
    "# Determine if netrc file exists, and if so, if it includes NASA Earthdata Login Credentials\n",
    "try:\n",
    "    netrcDir = os.path.expanduser(f\"~/{netrc_name}\")\n",
    "    netrc(netrcDir).authenticators(urs)[0]\n",
    "\n",
    "# Below, create a netrc file and prompt user for NASA Earthdata Login Username and Password\n",
    "except FileNotFoundError:\n",
    "    homeDir = os.path.expanduser(\"~\")\n",
    "    Popen('touch {0}{2} | echo machine {1} >> {0}{2}'.format(homeDir + os.sep, urs, netrc_name), shell=True)\n",
    "    Popen('echo login {} >> {}{}'.format(getpass(prompt=prompts[0]), homeDir + os.sep, netrc_name), shell=True)\n",
    "    Popen('echo \\'password {} \\'>> {}{}'.format(getpass(prompt=prompts[1]), homeDir + os.sep, netrc_name), shell=True)\n",
    "    # Set restrictive permissions\n",
    "    Popen('chmod 0600 {0}{1}'.format(homeDir + os.sep, netrc_name), shell=True)"
   ]
  },
  {
   "cell_type": "markdown",
   "id": "parallel-stewart",
   "metadata": {
    "id": "bf3588b7-8acf-436f-b354-8d87e2af447b"
   },
   "source": [
    "### Get S3 Token\n",
    "\n",
    "Retrieve your S3 access token and define an S3 direct access file system handler with S3FS. This token expires after one hour, and this block will need to be rerun if time expires. If you receive an error, double-check that your username and password were entered correctly in your netrc file, or that you can access the following URL: https://data.gesdisc.earthdata.nasa.gov"
   ]
  },
  {
   "cell_type": "code",
   "execution_count": null,
   "id": "manufactured-planning",
   "metadata": {
    "id": "81d98848",
    "outputId": "9b2aabf3-b02b-4722-c6c5-d51f4c0257ec"
   },
   "outputs": [],
   "source": [
    "gesdisc_s3 = \"https://data.gesdisc.earthdata.nasa.gov/s3credentials\"\n",
    "\n",
    "# Define a function for S3 access credentials\n",
    "\n",
    "def begin_s3_direct_access(url: str=gesdisc_s3):\n",
    "    response = requests.get(url).json()\n",
    "    return s3fs.S3FileSystem(key=response['accessKeyId'],\n",
    "                             secret=response['secretAccessKey'],\n",
    "                             token=response['sessionToken'],\n",
    "                             client_kwargs={'region_name':'us-west-2'})\n",
    "\n",
    "fs = begin_s3_direct_access()\n",
    "\n",
    "# Check that the file system is intact as an S3FileSystem object, which means that token is valid\n",
    "# Common causes of rejected S3 access tokens include incorrect passwords stored in the netrc file, or a non-existent netrc file\n",
    "type(fs)"
   ]
  },
  {
   "cell_type": "markdown",
   "id": "julian-potter",
   "metadata": {
    "id": "33245906",
    "tags": []
   },
   "source": [
    "### Open the File in Xarray as an S3 File System Object\n",
    "\n",
    "First, check that the file itself is intact. By calling <code>fs.info()</code> with S3FS, we can see some of the metadata assigned to files uploaded to S3 buckets."
   ]
  },
  {
   "cell_type": "code",
   "execution_count": null,
   "id": "cleared-poster",
   "metadata": {},
   "outputs": [],
   "source": [
    "# Files are organized by s3://gesdisc-cumulus-prod-protected/MERRA2/M2T1NXSLV.5.12.4/year/mo/*.nc4\n",
    "fn = 's3://gesdisc-cumulus-prod-protected/MERRA2/M2T1NXSLV.5.12.4/2019/03/MERRA2_400.tavg1_2d_slv_Nx.20190313.nc4'\n",
    "\n",
    "fs.info(fn)"
   ]
  },
  {
   "cell_type": "markdown",
   "id": "applicable-acoustic",
   "metadata": {},
   "source": [
    "In order to open an S3 bucket file, or group of files in Xarray, <code>fs.open()</code> and <code>fs.glob()</code> must be used when calling their URLs in <code>open_dataset()</code>.\n",
    "Here, we open a single M2T1NXSLV.5.12.4 file and subset its sea-level pressure values at a particular time slice."
   ]
  },
  {
   "cell_type": "code",
   "execution_count": null,
   "id": "ideal-baseline",
   "metadata": {
    "id": "6206ec95",
    "outputId": "5dbf940b-19ab-47ad-8648-4800a0e167f0"
   },
   "outputs": [],
   "source": [
    "ds = xr.open_dataset(fs.open(fn),\n",
    "                     decode_cf=True,)\n",
    "\n",
    "# Subset SLP at 15:30Z, convert units\n",
    "slp = ds.SLP.values[15,:,:] / 100 # convert to hPa\n",
    "\n",
    "slp"
   ]
  },
  {
   "cell_type": "markdown",
   "id": "behind-encyclopedia",
   "metadata": {},
   "source": [
    "### Plot Sea-Level Pressure Contours\n",
    "\n",
    "Now that the file is inside a local Xarray dataset, we can perform any data analysis methods desired, such as plotting with Matplotlib."
   ]
  },
  {
   "cell_type": "code",
   "execution_count": null,
   "id": "alleged-glenn",
   "metadata": {},
   "outputs": [],
   "source": [
    "plt.rcParams['figure.figsize'] = 10,10\n",
    "\n",
    "# Set up figure\n",
    "fig = plt.figure()\n",
    "\n",
    "ax = fig.add_subplot(111, projection=ccrs.LambertConformal())\n",
    "ax.set_extent([-121, -72, 23, 51], crs=ccrs.PlateCarree()) # CONUS extent\n",
    "ax.coastlines(resolution='50m')\n",
    "ax.add_feature(cfeature.BORDERS)\n",
    "\n",
    "# Set up filled and line contours\n",
    "filled_c = ax.contourf(ds.lon, ds.lat, slp, levels=10, \n",
    "                       transform=ccrs.PlateCarree())\n",
    "line_c = ax.contour(ds.lon, ds.lat, slp, levels=10,\n",
    "                        colors=['black'],\n",
    "                        transform=ccrs.PlateCarree())\n",
    "\n",
    "# Set up labelling for contours\n",
    "ax.clabel(line_c,  \n",
    "    colors=['black'],\n",
    "    manual=False,  \n",
    "    inline=True,  \n",
    "    fmt=' {:.0f} '.format,  \n",
    "    )\n",
    "\n",
    "# Set up colorbar and figure title\n",
    "fig.colorbar(filled_c, orientation='horizontal')\n",
    "fig.suptitle('MERRA-2 CONUS Sea-Level Pressure (hPa) on 13 March 2019 15:30Z', fontsize=16)\n",
    "\n",
    "plt.show()"
   ]
  }
 ],
 "metadata": {
  "colab": {
   "collapsed_sections": [],
   "name": "MERRA2_S3_How-To.ipynb",
   "provenance": []
  },
  "kernelspec": {
   "display_name": "Python 3 (ipykernel)",
   "language": "python",
   "name": "python3"
  },
  "language_info": {
   "codemirror_mode": {
    "name": "ipython",
    "version": 3
   },
   "file_extension": ".py",
   "mimetype": "text/x-python",
   "name": "python",
   "nbconvert_exporter": "python",
   "pygments_lexer": "ipython3",
   "version": "3.8.12"
  }
 },
 "nbformat": 4,
 "nbformat_minor": 5
}
